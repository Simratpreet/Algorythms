{
 "cells": [
  {
   "cell_type": "code",
   "execution_count": 75,
   "metadata": {
    "collapsed": false
   },
   "outputs": [
   ],
   "source": [
    "# Load Train and Test Data\n",
    "import pandas as pd\n",
    "import numpy as np\n",
    "\n",
    "train_df = pd.read_csv(\"train-rateit.csv\")\n",
    "\n",
    "test_df = pd.read_csv(\"test-rateit.csv\")"
   ]
  },
  {
   "cell_type": "code",
   "execution_count": 76,
   "metadata": {
    "collapsed": false
   },
   "outputs": [
   ],
   "source": [
    "# Separate features and label\n",
    "train_label = train_df['target_bin']\n",
    "train_features = train_df.drop(['target_bin', 'content_id'], axis=1)\n",
    "\n",
    "test_features = test_df.drop(['content_id'], axis=1)"
   ]
  },
  {
   "cell_type": "code",
   "execution_count": 77,
   "metadata": {
    "collapsed": false
   },
   "outputs": [
    {
     "data": {
      "text/plain": [
       "Index([u'avg_word_length', u'day_of_week', u'feat1', u'feat2', u'feat3',\n",
       "       u'feat4', u'feat5', u'feat6', u'feat7', u'feat8', u'feat9', u'feat10',\n",
       "       u'feat11', u'feat12', u'feat13', u'feat14', u'feat15', u'feat16',\n",
       "       u'feat17', u'feat18', u'feat19', u'feat20', u'feat21', u'feat22',\n",
       "       u'feat23', u'feat24', u'feat25', u'feat26', u'feat27', u'feat28',\n",
       "       u'feat29', u'feat30', u'images', u'meta_length', u'negativity',\n",
       "       u'negativity2', u'negativity3', u'negativity4', u'negativity5',\n",
       "       u'num_content_words', u'num_links', u'num_links_2', u'num_title_words',\n",
       "       u'num_uniq_content_words', u'positivity', u'positivity2',\n",
       "       u'positivity3', u'positivity4', u'positivity5', u'ratio_non_stop_words',\n",
       "       u'ratio_uniq_non_stop_words', u'sentiment', u'sentiment2', u'topic_1',\n",
       "       u'topic_2', u'topic_3', u'topic_4', u'topic_5', u'topic_6',\n",
       "       u'tracked_for_days', u'videos'],\n",
       "      dtype='object')"
      ]
     },
     "execution_count": 77,
     "metadata": {
     },
     "output_type": "execute_result"
    }
   ],
   "source": [
    "train_features.columns"
   ]
  },
  {
   "cell_type": "code",
   "execution_count": 78,
   "metadata": {
    "collapsed": false
   },
   "outputs": [
   ],
   "source": [
    "# Fill empty values with zero\n",
    "train_features.fillna(0, inplace=True)\n",
    "test_features.fillna(0, inplace=True)"
   ]
  },
  {
   "cell_type": "code",
   "execution_count": 79,
   "metadata": {
    "collapsed": false
   },
   "outputs": [
   ],
   "source": [
    "# Fill na in day of week where day of week is 0\n",
    "train_features['day_of_week'] = train_features['day_of_week'].apply(lambda x: \"NA\" if x==0 else x)\n",
    "test_features['day_of_week'] = test_features['day_of_week'].apply(lambda x: \"NA\" if x==0 else x)"
   ]
  },
  {
   "cell_type": "code",
   "execution_count": 80,
   "metadata": {
    "collapsed": false
   },
   "outputs": [
   ],
   "source": [
    "# One-Hot Encode day of week\n",
    "train_features = pd.get_dummies(train_features)\n",
    "test_features = pd.get_dummies(test_features)"
   ]
  },
  {
   "cell_type": "code",
   "execution_count": 81,
   "metadata": {
    "collapsed": false
   },
   "outputs": [
   ],
   "source": [
    "# %matplotlib inline\n",
    "\n",
    "# import matplotlib.pyplot as plt\n",
    "# plt.rcParams['figure.figsize'] = [50, 50]\n",
    "\n",
    "# #fig = plt.figure(figsize = (11,5))\n",
    "# train_features.hist()\n",
    "# plt.show()"
   ]
  },
  {
   "cell_type": "code",
   "execution_count": 82,
   "metadata": {
    "collapsed": false
   },
   "outputs": [
   ],
   "source": [
    "from sklearn.model_selection import train_test_split\n",
    "\n",
    "X_train, X_test, y_train, y_test = train_test_split(train_features, train_label, test_size=0.20)"
   ]
  },
  {
   "cell_type": "code",
   "execution_count": 83,
   "metadata": {
    "collapsed": false
   },
   "outputs": [
   ],
   "source": [
    "from sklearn.decomposition import PCA\n",
    "\n",
    "pca = PCA(n_components = 4)\n",
    "pca.fit(X_train)\n",
    "\n",
    "X_train = pca.transform(X_train)\n",
    "X_test = pca.transform(X_test)"
   ]
  },
  {
   "cell_type": "code",
   "execution_count": 84,
   "metadata": {
    "collapsed": false
   },
   "outputs": [
   ],
   "source": [
    "# Try Random Forest\n",
    "from sklearn.ensemble import RandomForestClassifier\n",
    "\n",
    "clf = RandomForestClassifier()\n",
    "clf.fit(X_train, y_train)\n",
    "\n",
    "y_pred = clf.predict(X_test)"
   ]
  },
  {
   "cell_type": "markdown",
   "metadata": {
    "collapsed": false
   },
   "source": [
    "**Random Forest has given results**"
   ]
  },
  {
   "cell_type": "code",
   "execution_count": 85,
   "metadata": {
    "collapsed": false
   },
   "outputs": [
    {
     "data": {
      "text/plain": [
       "0.690775018167828"
      ]
     },
     "execution_count": 85,
     "metadata": {
     },
     "output_type": "execute_result"
    }
   ],
   "source": [
    "from sklearn.metrics import roc_auc_score\n",
    "roc_auc_score(y_test, y_pred)"
   ]
  },
  {
   "cell_type": "code",
   "execution_count": 86,
   "metadata": {
    "collapsed": false
   },
   "outputs": [
    {
     "name": "stdout",
     "output_type": "stream",
     "text": [
      "RandomForestClassifier(bootstrap=True, class_weight=None, criterion='gini',\n",
      "            max_depth=100, max_features='auto', max_leaf_nodes=None,\n",
      "            min_impurity_decrease=0.0, min_impurity_split=None,\n",
      "            min_samples_leaf=1, min_samples_split=2,\n",
      "            min_weight_fraction_leaf=0.0, n_estimators=100, n_jobs=1,\n",
      "            oob_score=False, random_state=None, verbose=0,\n",
      "            warm_start=False)\n"
     ]
    },
    {
     "name": "stdout",
     "output_type": "stream",
     "text": [
      "Unoptimized model\n",
      "------\n",
      "ROC AUC score on testing data: 0.6858\n",
      "\n",
      "Optimized Model\n",
      "------\n",
      "Final ROC AUC score on the testing data: 0.7171\n"
     ]
    }
   ],
   "source": [
    "# TODO: Import 'GridSearchCV', 'make_scorer', and any other necessary libraries\n",
    "from sklearn.grid_search import GridSearchCV\n",
    "from sklearn.metrics import make_scorer\n",
    "\n",
    "# TODO: Initialize the classifier\n",
    "clf = RandomForestClassifier()\n",
    "\n",
    "# TODO: Create the parameters list you wish to tune, using a dictionary if needed.\n",
    "# HINT: parameters = {'parameter_1': [value1, value2], 'parameter_2': [value1, value2]}\n",
    "parameters = {'n_estimators': [10, 50, 75, 100], 'max_depth': [2, 25, 50, 75, 100]}\n",
    "\n",
    "# TODO: Make an fbeta_score scoring object using make_scorer()\n",
    "scorer = make_scorer(roc_auc_score)\n",
    "\n",
    "# TODO: Perform grid search on the classifier using 'scorer' as the scoring method using GridSearchCV()\n",
    "grid_obj = GridSearchCV(clf, parameters, scorer)\n",
    "\n",
    "# TODO: Fit the grid search object to the training data and find the optimal parameters using fit()\n",
    "grid_fit = grid_obj.fit(X_train, y_train)\n",
    "\n",
    "# Get the estimator\n",
    "best_clf = grid_fit.best_estimator_\n",
    "print best_clf\n",
    "# Make predictions using the unoptimized and model\n",
    "predictions = (clf.fit(X_train, y_train)).predict(X_test)\n",
    "best_predictions = best_clf.predict(X_test)\n",
    "\n",
    "# Report the before-and-afterscores\n",
    "print(\"Unoptimized model\\n------\")\n",
    "print(\"ROC AUC score on testing data: {:.4f}\".format(roc_auc_score(y_test, predictions)))\n",
    "print(\"\\nOptimized Model\\n------\")\n",
    "print(\"Final ROC AUC score on the testing data: {:.4f}\".format(roc_auc_score(y_test, best_predictions)))"
   ]
  },
  {
   "cell_type": "code",
   "execution_count": 32,
   "metadata": {
    "collapsed": false
   },
   "outputs": [
    {
     "data": {
      "text/plain": [
       "array(['feat9', 'feat8', 'feat23', 'feat16', 'feat18', 'feat17',\n",
       "       'tracked_for_days', 'feat6', 'feat12', 'feat14',\n",
       "       'num_content_words', 'num_uniq_content_words',\n",
       "       'ratio_uniq_non_stop_words', 'feat15', 'avg_word_length', 'feat13',\n",
       "       'feat3', 'feat22', 'feat2', 'feat10', 'sentiment', 'positivity3',\n",
       "       'feat11', 'positivity', 'feat7', 'negativity3', 'num_links',\n",
       "       'feat28', 'feat29', 'positivity2', 'negativity', 'feat27',\n",
       "       'negativity2', 'num_title_words', 'images', 'feat24', 'feat30',\n",
       "       'feat4', 'sentiment2', 'feat25', 'feat26', 'negativity5',\n",
       "       'num_links_2', 'negativity4', 'feat19', 'feat21', 'feat20',\n",
       "       'positivity4', 'meta_length', 'positivity5', 'videos', 'feat5',\n",
       "       'topic_5', 'feat1', 'day_of_week_sunday', 'day_of_week_thursday',\n",
       "       'day_of_week_tuesday', 'day_of_week_wednesday', 'topic_1',\n",
       "       'topic_2', 'topic_3', 'topic_4', 'topic_6', 'day_of_week_friday',\n",
       "       'day_of_week_monday', 'day_of_week_saturday',\n",
       "       'ratio_non_stop_words', 'day_of_week_NA'], dtype=object)"
      ]
     },
     "execution_count": 32,
     "metadata": {
     },
     "output_type": "execute_result"
    }
   ],
   "source": [
    "# Get Feature importances\n",
    "importances = pd.DataFrame({'feature': X_train.columns, 'importance':np.round(best_clf.feature_importances_, 3)})\n",
    "importances = importances.sort_values('importance',ascending=False).set_index('feature')\n",
    "importances.index.values"
   ]
  },
  {
   "cell_type": "code",
   "execution_count": 40,
   "metadata": {
    "collapsed": false
   },
   "outputs": [
   ],
   "source": [
    "n_features = 5\n",
    "top_n_features = importances.index.values[:n_features].tolist()"
   ]
  },
  {
   "cell_type": "code",
   "execution_count": 42,
   "metadata": {
    "collapsed": false
   },
   "outputs": [
    {
     "name": "stdout",
     "output_type": "stream",
     "text": [
      "Final Model trained on full data\n",
      "------\n",
      "ROC AUC score on testing data: 0.6732\n",
      "\n",
      "Final Model trained on reduced data\n",
      "------\n",
      "ROC AUC score on testing data: 0.6976\n"
     ]
    }
   ],
   "source": [
    "# Import functionality for cloning a model\n",
    "from sklearn.base import clone\n",
    "\n",
    "# Reduce the feature space\n",
    "X_train_reduced = X_train[top_n_features]\n",
    "X_test_reduced = X_test[top_n_features]\n",
    "\n",
    "# Train on the \"best\" model found from grid search earlier\n",
    "clf = (clone(best_clf)).fit(X_train_reduced, y_train)\n",
    "\n",
    "# Make new predictions\n",
    "reduced_predictions = clf.predict(X_test_reduced)\n",
    "\n",
    "# Report scores from the final model using both versions of data\n",
    "print(\"Final Model trained on full data\\n------\")\n",
    "print(\"ROC AUC score on testing data: {:.4f}\".format(roc_auc_score(y_test, predictions)))\n",
    "print(\"\\nFinal Model trained on reduced data\\n------\")\n",
    "print(\"ROC AUC score on testing data: {:.4f}\".format(roc_auc_score(y_test, reduced_predictions)))"
   ]
  },
  {
   "cell_type": "code",
   "execution_count": 89,
   "metadata": {
    "collapsed": false
   },
   "outputs": [
   ],
   "source": [
    "#predictions = clf.predict(test_features[top_n_features])\n",
    "test_features = pca.transform(test_features)\n",
    "predictions = best_clf.predict(test_features)"
   ]
  },
  {
   "cell_type": "code",
   "execution_count": 90,
   "metadata": {
    "collapsed": false
   },
   "outputs": [
   ],
   "source": [
    "np.savetxt(\"output.csv\", np.asarray(predictions), delimiter=\",\")"
   ]
  },
  {
   "cell_type": "code",
   "execution_count": 0,
   "metadata": {
    "collapsed": false
   },
   "outputs": [
   ],
   "source": [
   ]
  },
  {
   "cell_type": "code",
   "execution_count": 35,
   "metadata": {
    "collapsed": false
   },
   "outputs": [
   ],
   "source": [
    "# Check if these 10 features work good on any other model\n",
    "from sklearn.ensemble import GradientBoostingClassifier\n",
    "\n",
    "clf = GradientBoostingClassifier()\n",
    "clf.fit(X_train_reduced, y_train)\n",
    "\n",
    "y_pred = clf.predict(X_test_reduced)"
   ]
  },
  {
   "cell_type": "code",
   "execution_count": 36,
   "metadata": {
    "collapsed": false
   },
   "outputs": [
    {
     "data": {
      "text/plain": [
       "0.5021494491006686"
      ]
     },
     "execution_count": 36,
     "metadata": {
     },
     "output_type": "execute_result"
    }
   ],
   "source": [
    "from sklearn.metrics import roc_auc_score\n",
    "roc_auc_score(y_test, y_pred)"
   ]
  }
 ],
 "metadata": {
  "kernelspec": {
   "display_name": "Python 2 (Ubuntu Linux)",
   "language": "python",
   "name": "python2-ubuntu"
  },
  "language_info": {
   "codemirror_mode": {
    "name": "ipython",
    "version": 2
   },
   "file_extension": ".py",
   "mimetype": "text/x-python",
   "name": "python",
   "nbconvert_exporter": "python",
   "pygments_lexer": "ipython2",
   "version": "2.7.12"
  }
 },
 "nbformat": 4,
 "nbformat_minor": 0
}