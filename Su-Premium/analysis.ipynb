{
 "cells": [
  {
   "cell_type": "code",
   "execution_count": 1,
   "metadata": {
    "collapsed": false
   },
   "outputs": [
   ],
   "source": [
    "import pandas as pd\n",
    "import numpy as np\n",
    "\n",
    "train_df = pd.read_csv(\"train_data.csv\")\n",
    "\n",
    "test_df = pd.read_csv(\"test_data.csv\")"
   ]
  },
  {
   "cell_type": "code",
   "execution_count": 2,
   "metadata": {
    "collapsed": false
   },
   "outputs": [
   ],
   "source": [
    "# Remove Negative Premiums from training data\n",
    "train_df = train_df[train_df['Premium'] >= 0]\n",
    "\n",
    "# Separate train output\n",
    "train_premium = train_df['Premium']\n",
    "train_data = train_df.drop(['Premium', 'ID'], axis=1)\n",
    "\n",
    "# Separate train output\n",
    "test_premium = test_df['Premium']\n",
    "test_data = test_df.drop(['Premium', 'ID'], axis=1)"
   ]
  },
  {
   "cell_type": "code",
   "execution_count": 3,
   "metadata": {
    "collapsed": false
   },
   "outputs": [
   ],
   "source": [
    "# (test_data['Var_1'] >= 0).value_counts()"
   ]
  },
  {
   "cell_type": "code",
   "execution_count": 4,
   "metadata": {
    "collapsed": false
   },
   "outputs": [
   ],
   "source": [
    "# min_max_scaled = ['Var_1', 'Var_10']\n",
    "# categorized_columns = ['Var_11']"
   ]
  },
  {
   "cell_type": "code",
   "execution_count": 5,
   "metadata": {
    "collapsed": false,
    "scrolled": true
   },
   "outputs": [
   ],
   "source": [
    "# Replace NA1 in Var_37 with 0\n",
    "train_data['Var_37'] = train_data['Var_37'].apply(lambda x: int(0) if x == \"NA1\" else int(x))\n",
    "test_data['Var_37'] = test_data['Var_37'].apply(lambda x: int(0) if x == \"NA1\" else int(x))\n",
    "\n",
    "# Do One-Hot Encoding on categorical columns\n",
    "train_data = pd.get_dummies(train_data)\n",
    "test_data = pd.get_dummies(test_data)\n"
   ]
  },
  {
   "cell_type": "code",
   "execution_count": 6,
   "metadata": {
    "collapsed": false
   },
   "outputs": [
   ],
   "source": [
    "from sklearn.model_selection import train_test_split\n",
    "\n",
    "X_train, X_test, y_train, y_test = train_test_split(train_data, train_premium, test_size=0.33, random_state=0)"
   ]
  },
  {
   "cell_type": "code",
   "execution_count": 7,
   "metadata": {
    "collapsed": false
   },
   "outputs": [
    {
     "data": {
      "text/plain": [
       "array([[-0.01581323, -0.10021724, -0.07791049, ..., -0.49217462,\n",
       "         3.27010417, -0.38200435],\n",
       "       [-0.01581323, -0.10021724, -0.07791049, ..., -0.49217462,\n",
       "        -0.30580066, -0.38200435],\n",
       "       [ 0.01590136, -0.10021724, -0.02667801, ..., -0.49217462,\n",
       "        -0.30580066, -0.38200435],\n",
       "       ...,\n",
       "       [-0.01581323, -0.10021724, -0.09071861, ..., -0.49217462,\n",
       "        -0.30580066, -0.38200435],\n",
       "       [-0.01581323, -0.10021724, -0.07791049, ..., -0.49217462,\n",
       "        -0.30580066, -0.38200435],\n",
       "       [ 0.02949333, -0.10021724, -0.01386988, ..., -0.49217462,\n",
       "        -0.30580066, -0.38200435]])"
      ]
     },
     "execution_count": 7,
     "metadata": {
     },
     "output_type": "execute_result"
    }
   ],
   "source": [
    "# from sklearn import utils\n",
    "# from sklearn import preprocessing\n",
    "\n",
    "# lab_enc = preprocessing.LabelEncoder()\n",
    "# y_train = lab_enc.fit_transform(y_train)\n",
    "\n",
    "# utils.multiclass.type_of_target(y_train)\n",
    "\n",
    "from sklearn.preprocessing import StandardScaler\n",
    "scaler = StandardScaler()\n",
    "\n",
    "scaler.fit(X_train)\n",
    "scaler.transform(X_train)\n",
    "scaler.transform(X_test)"
   ]
  },
  {
   "cell_type": "code",
   "execution_count": 11,
   "metadata": {
    "collapsed": false
   },
   "outputs": [
   ],
   "source": [
    "# Try Linear Regression, RandomForest, MLPRegressor\n",
    "from sklearn.linear_model import LinearRegression\n",
    "from sklearn.ensemble import RandomForestClassifier\n",
    "from sklearn.neural_network import MLPRegressor\n",
    "\n",
    "#clf = LinearRegression()\n",
    "#clf = RandomForestClassifier()\n",
    "clf = MLPRegressor()\n",
    "clf.fit(X_train, y_train)\n",
    "\n",
    "y_pred = clf.predict(X_test)"
   ]
  },
  {
   "cell_type": "code",
   "execution_count": 12,
   "metadata": {
    "collapsed": false
   },
   "outputs": [
    {
     "name": "stdout",
     "output_type": "stream",
     "text": [
      "2214877.514776292\n"
     ]
    }
   ],
   "source": [
    "from sklearn.metrics import mean_squared_error\n",
    "\n",
    "print(mean_squared_error(y_test, y_pred))"
   ]
  },
  {
   "cell_type": "markdown",
   "metadata": {
    "collapsed": false
   },
   "source": [
    "**MLPRegressor has given the best RMSE**"
   ]
  },
  {
   "cell_type": "code",
   "execution_count": 13,
   "metadata": {
    "collapsed": false
   },
   "outputs": [
   ],
   "source": [
    "# Predictions on test data\n",
    "predictions = clf.predict(test_data)\n",
    "\n",
    "# Dump to CSV\n",
    "pred = np.asarray(predictions)\n",
    "np.savetxt(\"Submission - Premium Prediction.csv\", pred, delimiter=\",\", header=\"Premium\")"
   ]
  }
 ],
 "metadata": {
  "kernelspec": {
   "display_name": "Python 2 (Ubuntu Linux)",
   "language": "python",
   "name": "python2-ubuntu"
  },
  "language_info": {
   "codemirror_mode": {
    "name": "ipython",
    "version": 2
   },
   "file_extension": ".py",
   "mimetype": "text/x-python",
   "name": "python",
   "nbconvert_exporter": "python",
   "pygments_lexer": "ipython2",
   "version": "2.7.12"
  }
 },
 "nbformat": 4,
 "nbformat_minor": 0
}